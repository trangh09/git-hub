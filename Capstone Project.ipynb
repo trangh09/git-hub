{
    "cells": [
        {
            "cell_type": "markdown",
            "metadata": {
                "collapsed": true
            },
            "source": "# Capstone Project - The Battle of the Neighborhoods"
        },
        {
            "cell_type": "markdown",
            "metadata": {},
            "source": "## Introduction: Business Problem <a name=\"introduction\"></a>"
        },
        {
            "cell_type": "markdown",
            "metadata": {},
            "source": "\"New York City has long been one of the most sought-after places to open a restaurant. It\u2019s also the most populous city in the US with millions people and counting; that\u2019s a lot of hungry mouths to feed, so it\u2019s no wonder more and more restaurant owners are setting up shop. Data from the National Restaurant Association shows that there are almost 45,000 food establishments in New York City, so restaurant entrepreneurs can expect stiff competition. But there\u2019s still room for business growth.\"\n\nEach borough of New York City has a completely different vibe, which means your concept might perform great in one of them, but terrible in one or more of the others. \n1. \"Manhattan is the borough that comes to most people\u2019s mind when they think of New York City\u2014Times Square, Central Park, the Empire State building. While you can find almost any type of restaurant that you would want in Manhattan, this is the most expensive borough to both live and do business in. For a new restaurant owner with limited capital, the high cost of real estate and intense competition are both reasons to consider an area outside of Manhattan.\"\n2. \"The Bronx offers a cheaper alternative to Manhattan and still features tourist attractions like The Bronx Zoo, Yankee Stadium, and Little Italy. Plus, schools like Fordham University and Manhattan College means there are plenty of hungry students looking for a place to eat. If you\u2019re just starting out in New York City, The Bronx could offer an affordable place to start. \"\n3. \"Brooklyn is quickly becoming the \u201cit\u201d spot for hip, young millennials. If this is the target audience you\u2019re trying to attract, then Brooklyn is the place to be. But keep in mind, while this area is becoming increasingly popular, you can expect your operating costs to increase as well. \"\n4. \"Queens is home to New York City\u2019s largest borough and houses nearly two million people. Astoria is one of the most well-known neighborhoods in Queens and boasts beautiful parks, plenty of restaurants, and nightlife all while being a quick subway ride away from Manhattan. This could be an ideal area for restaurants looking to cater to young families and professionals. \"\n5. \"Staten Island is often New York City\u2019s overlooked borough, but is home to several historical sites, museums, and botanical gardens and offers another less expensive alternative to Manhattan and Brooklyn. \"\n\nIn this project, I will try to find an optimal location for a restaurant. Specifically, this report will be targeted to stakeholders interested in opening an **Chinese restaurant** in **New York, US**. Since there are lots of restaurants in New York, I will try to detect **locations that are not already crowded with restaurants**. I would also prefer locations **as close to city center as possible**, assuming that first two conditions are met. Then I will use our data science powers to generate a few most promissing neighborhoods based on this criteria. Advantages of each area will then be clearly expressed so that best possible final location can be chosen by stakeholders."
        }
    ],
    "metadata": {
        "kernelspec": {
            "display_name": "Python 3.6",
            "language": "python",
            "name": "python3"
        },
        "language_info": {
            "codemirror_mode": {
                "name": "ipython",
                "version": 3
            },
            "file_extension": ".py",
            "mimetype": "text/x-python",
            "name": "python",
            "nbconvert_exporter": "python",
            "pygments_lexer": "ipython3",
            "version": "3.6.9"
        }
    },
    "nbformat": 4,
    "nbformat_minor": 1
}