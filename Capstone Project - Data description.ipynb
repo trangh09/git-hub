{
    "cells": [
        {
            "cell_type": "markdown",
            "metadata": {
                "collapsed": true
            },
            "source": "# Capstone Project - The Battle of the Neighborhoods"
        },
        {
            "cell_type": "markdown",
            "metadata": {},
            "source": "## Data <a name=\"data\"></a>"
        },
        {
            "cell_type": "markdown",
            "metadata": {},
            "source": "Based on definition of our problem, factors that will influence our decission are:\n\n1. Number of existing restaurants in the neighborhood (any type of restaurant)\n1. Number of and distance to Chinese restaurants in the neighborhood, if any distance of neighborhood from city center.\nWe decided to use regularly spaced grid of locations, centered around city center, to define our neighborhoods. Following data sources will be needed to extract/generate the required information: centers of candidate areas will be generated algorithmically and approximate addresses of centers of those areas will be obtained using LocationIQ API reverse geocoding number of restaurants and their type and location in every neighborhood will be obtained using Foursquare API; coordinate of The Bronx center will be obtained using LocationIQ API geocoding of a well known location (NY Botanical Garden)"
        }
    ],
    "metadata": {
        "kernelspec": {
            "display_name": "Python 3.6",
            "language": "python",
            "name": "python3"
        },
        "language_info": {
            "codemirror_mode": {
                "name": "ipython",
                "version": 3
            },
            "file_extension": ".py",
            "mimetype": "text/x-python",
            "name": "python",
            "nbconvert_exporter": "python",
            "pygments_lexer": "ipython3",
            "version": "3.6.9"
        }
    },
    "nbformat": 4,
    "nbformat_minor": 1
}